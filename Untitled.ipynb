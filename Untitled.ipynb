{
 "cells": [
  {
   "cell_type": "markdown",
   "metadata": {},
   "source": [
    "# Carta Para mi"
   ]
  },
  {
   "cell_type": "markdown",
   "metadata": {},
   "source": [
    "## Nicolas Hernando Beltran Alzate"
   ]
  },
  {
   "cell_type": "markdown",
   "metadata": {},
   "source": [
    "siendo hoy 11/02/2020 me envio esta carta con gran esperanza para ti, espero que estes mejor que todas tus espectativas sean llenadas , ademas de que academicamente estes muy bien, sabes que tan complejo es y a sido para ti la cuestion tanto de amimos como economica, pero espero con mi corazon que estes muy bien, que estes bien asi estes solo, o aun estes con ameli \n",
    "es muy lindo como te sientes ahora y solo te digo que sigas tus sueños con todo lo que puedas ,tu puedes tu siempre vas a poder \n",
    "no te dejes desanimar por nadie tu puedes \n",
    "\n",
    "con mucho, pero mucho cariño espero que estes mucho mejor\n",
    "pdt: sigue llendo a psicologia  \n"
   ]
  },
  {
   "cell_type": "code",
   "execution_count": null,
   "metadata": {
    "collapsed": true
   },
   "outputs": [],
   "source": [
    "Nombre = input('Escribe su nombre:')"
   ]
  },
  {
   "cell_type": "code",
   "execution_count": null,
   "metadata": {
    "collapsed": true
   },
   "outputs": [],
   "source": [
    "Nombre"
   ]
  },
  {
   "cell_type": "code",
   "execution_count": null,
   "metadata": {
    "collapsed": true
   },
   "outputs": [],
   "source": [
    "Edad = int(input('Escriba tu edad:'))"
   ]
  },
  {
   "cell_type": "code",
   "execution_count": null,
   "metadata": {
    "collapsed": true
   },
   "outputs": [],
   "source": [
    "Edad"
   ]
  },
  {
   "cell_type": "code",
   "execution_count": null,
   "metadata": {
    "collapsed": true
   },
   "outputs": [],
   "source": [
    "print('hola' .center(50, ' '))"
   ]
  }
 ],
 "metadata": {
  "kernelspec": {
   "display_name": "Python 3",
   "language": "python",
   "name": "python3"
  },
  "language_info": {
   "codemirror_mode": {
    "name": "ipython",
    "version": 3
   },
   "file_extension": ".py",
   "mimetype": "text/x-python",
   "name": "python",
   "nbconvert_exporter": "python",
   "pygments_lexer": "ipython3",
   "version": "3.6.3"
  }
 },
 "nbformat": 4,
 "nbformat_minor": 2
}
